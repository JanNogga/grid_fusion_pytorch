{
 "cells": [
  {
   "cell_type": "markdown",
   "id": "963e9df3",
   "metadata": {},
   "source": [
    "setup a dataset, do one fusion step, render"
   ]
  },
  {
   "cell_type": "code",
   "execution_count": 1,
   "id": "9e019253",
   "metadata": {},
   "outputs": [
    {
     "name": "stderr",
     "output_type": "stream",
     "text": [
      "/usr/local/lib/python3.8/dist-packages/tqdm/auto.py:21: TqdmWarning: IProgress not found. Please update jupyter and ipywidgets. See https://ipywidgets.readthedocs.io/en/stable/user_install.html\n",
      "  from .autonotebook import tqdm as notebook_tqdm\n"
     ]
    }
   ],
   "source": [
    "import matplotlib\n",
    "import matplotlib.pyplot as plt\n",
    "import math\n",
    "import numpy as np\n",
    "import torch\n",
    "import torch.nn as nn\n",
    "import torch.optim as optim\n",
    "import torch.nn.functional as F\n",
    "from torch.nn.utils.rnn import pad_sequence\n",
    "from torch.utils.data import DataLoader\n",
    "from grid_fusion_pytorch.dataset import PointCloudDataset, CustomCollate\n",
    "from apex import amp\n",
    "import time\n",
    "import sys\n",
    "import os\n",
    "import shutil\n",
    "from tqdm.auto import tqdm\n",
    "from pprint import pprint\n",
    "\n",
    "import torch_scatter\n",
    "from grid_fusion_pytorch.render import render_grids, batch_fuse_to_grid\n",
    "from moviepy import editor as mpy\n",
    "\n",
    "\n",
    "import sys\n",
    "\n",
    "import warnings \n",
    "#warnings.filterwarnings(\"ignore\", category=UserWarning)\n",
    "warnings.simplefilter(\"default\")"
   ]
  },
  {
   "cell_type": "code",
   "execution_count": 2,
   "id": "d34caa95",
   "metadata": {},
   "outputs": [],
   "source": [
    "cmap_39 = torch.tensor([[188,143,143],    # master_chef_can -  0\n",
    "                        [161,203,242],    # cracker_box -  1\n",
    "                        [227,88,34],      # sugar_box -  2\n",
    "                        [240,128,128],    # tomato_soup_can -  3\n",
    "                        [247,167,0],      # mustard_bottle -  4\n",
    "                        [0,191,255],      # tuna_fish_can -  5\n",
    "                        [102,205,170],    # pudding_box -  6\n",
    "                        [255,69,0],       # gelatin_box -  7\n",
    "                        [100,68,34],      # potted_meat_can -  8\n",
    "                        [243,195,0],      # banana -  9\n",
    "                        [252,90,141],     # strawberry - 10\n",
    "                        [154,191,89],     # apple - 11\n",
    "                        [252,227,190],    # peach - 12\n",
    "                        [81,59,75],       # plum - 13\n",
    "                        [100,149,237],    # pitcher_base - 14\n",
    "                        [137,44,22],      # bleach_cleanser - 15\n",
    "                        [0,100,0],        # bowl - 16\n",
    "                        [219,210,0],      # mug - 17\n",
    "                        [179,68,108],     # sponge - 18\n",
    "                        [41,183,0],       # spatula - 19\n",
    "                        [96,78,151],      # power_drill - 20\n",
    "                        [249,147,120],    # wood_block - 21\n",
    "                        [205,133,63],     # scissors - 22\n",
    "                        [0,255,0],        # large_marker - 23\n",
    "                        [255,0,0],        # adjustable_wrench - 24\n",
    "                        [255,165,0],      # flat_screwdriver - 25\n",
    "                        [199,21,133],     # hammer - 26\n",
    "                        [0,250,154],      # medium_clamp - 27\n",
    "                        [0,103,166],      # extra_large_clamp - 28\n",
    "                        [230,143,172],    # softball - 29\n",
    "                        [223,255,79],     # tennis_ball - 30\n",
    "                        [139,0,139],      # racquetball - 31\n",
    "                        [0,136,85],       # golf_ball - 32\n",
    "                        [0,0,255],        # foam_brick - 33\n",
    "                        [132,132,130],    # dice - 34\n",
    "                        [240,128,128],    # colored_wood_blocks - 35\n",
    "                        [195,179,129],    # toy_airplane - 36\n",
    "                        [0,255,255],      # rubiks_cube - 37\n",
    "                        [191,0,50]])/255. # red_box - 38"
   ]
  },
  {
   "cell_type": "code",
   "execution_count": 3,
   "id": "5f43855d",
   "metadata": {},
   "outputs": [],
   "source": [
    "# x and y axis probably still buggy\n",
    "def get_orbit_world_cam(n_steps=100, r=1., h=0., axis='z', look_at=np.zeros(3)):\n",
    "    phis = np.linspace(0, 2*np.pi, n_steps)[::-1]\n",
    "    hs   = h * np.ones_like(phis)\n",
    "    x = r * np.cos(phis)\n",
    "    y = r * np.sin(phis)\n",
    "    z = hs\n",
    "    if axis == 'z':\n",
    "        orbit = np.stack([x,y,z]).T\n",
    "    elif axis == 'y':\n",
    "        orbit = np.stack([x,z,y]).T\n",
    "    elif axis == 'x':\n",
    "        orbit = np.stack([z,x,y]).T\n",
    "    orbit += look_at\n",
    "    z_cam = (look_at - orbit)\n",
    "    z_cam /= np.linalg.norm(z_cam, axis=-1, keepdims=True)\n",
    "    \n",
    "    x_cam = np.cross(z_cam, np.array([0., 0., -1.]))\n",
    "    \n",
    "    y_cam = np.cross(x_cam, z_cam)\n",
    "    \n",
    "    world_cam = np.zeros((n_steps, 4, 4))\n",
    "    world_cam[:,:3,0] = -x_cam # maybe some bug here, image is mirrored\n",
    "    world_cam[:,:3,1] = y_cam \n",
    "    world_cam[:,:3,2] = z_cam\n",
    "    world_cam[:,:3,-1] = orbit\n",
    "    \n",
    "    world_cam[:,-1,-1] = 1\n",
    "    \n",
    "    world_cam_pt = torch.from_numpy(world_cam).float()\n",
    "    #world_cam_pt[:,:3,:3] = world_cam_pt[:,:3,:3].permute(0,2,1)\n",
    "    #world_cam_pt[:,:3,-1] = (world_cam_pt[:,:3,:3] @ world_cam_pt[:,:3,-1].unsqueeze(-1)).squeeze(-1)\n",
    "    return world_cam_pt\n",
    "\n",
    "@torch.no_grad()\n",
    "def render_orbit(grids, grid_config, cam_k, scale=1., grid_idx=0, cam_idx=0, n_steps=100, r=1.5, h=0., axis='z', n_points=100, look_at=np.array([0,0,0.9]), max_chunksize=1000000):\n",
    "    render_grid = grids[grid_idx:grid_idx+1]\n",
    "    world_cam = get_orbit_world_cam(n_steps, r, h, axis, look_at).to(render_grid.device).unsqueeze(1)\n",
    "    #for item in world_cam:\n",
    "    #    print(item)\n",
    "    cx = cam_k[grid_idx, cam_idx, 0, 2]\n",
    "    cy = cam_k[grid_idx, cam_idx, 1, 2]\n",
    "#    scale_matrix = torch.tensor([[scale, 0, 0.5*scale-0.5],\n",
    "#                                 [0, scale, 0.5*scale-0.5],\n",
    "#                                 [0, 0, 1]], device=render_grid.device)\n",
    "    scale_matrix = torch.tensor([[scale, 0, scale],\n",
    "                                 [0, scale, scale],\n",
    "                                 [0, 0, 1]], device=render_grid.device)\n",
    "    render_cam_k = scale_matrix[None,None] * cam_k[grid_idx:grid_idx+1, cam_idx:cam_idx+1]\n",
    "    H, W = int(2*cy), int(2*cx)\n",
    "    renders, renders_depth, trs = [], [], []\n",
    "    for i in range(n_steps):\n",
    "        r, rd, tr, _, _ = render_grids(render_grid, grid_config, world_cam[i:i+1], render_cam_k, n_points=n_points, H=H, W=W)\n",
    "        renders.append(r.cpu())\n",
    "        renders_depth.append(rd.cpu())\n",
    "        trs.append(tr.cpu())\n",
    "        del r, rd, tr\n",
    "    return torch.stack(renders).squeeze().permute(0,2,1).view(n_steps,-1,H,W), torch.stack(renders_depth).squeeze().view(n_steps,H,W), torch.stack(trs).squeeze().view(n_steps,H,W)"
   ]
  },
  {
   "cell_type": "code",
   "execution_count": 4,
   "id": "be39e154",
   "metadata": {},
   "outputs": [],
   "source": [
    "# semseg: batch_size x n_cams x h * w x 1\n",
    "# out: batch_size x n_cams x h * w x C\n",
    "def soften_semseg(semseg, eps=1e-4, num_classes=None):\n",
    "    if num_classes is None:\n",
    "        num_classes = semseg.max().item() + 1\n",
    "    semseg_delta = torch.eye(num_classes).to(semseg.device)[semseg]\n",
    "    # finally soften delta peaks\n",
    "    ret = torch.where(semseg_delta == 0, torch.ones_like(semseg_delta)*eps, torch.ones_like(semseg_delta)-(num_classes-1)*eps)\n",
    "    return ret"
   ]
  },
  {
   "cell_type": "code",
   "execution_count": 5,
   "id": "b0e21a67",
   "metadata": {},
   "outputs": [
    {
     "name": "stdout",
     "output_type": "stream",
     "text": [
      "Length of test_dataset: 1 \n",
      "\n",
      "Dataset __getitem__ output len/shapes:\n",
      " 6 torch.Size([22, 1, 480, 640]) torch.Size([22, 4, 4]) torch.Size([22, 1, 480, 640]) torch.Size([22, 3, 3]) torch.Size([2122936, 42]) \n",
      "\n",
      "pcd element shapes:\n",
      "torch.Size([188719, 42])\n",
      "torch.Size([95493, 42])\n",
      "torch.Size([93658, 42])\n",
      "torch.Size([42648, 42])\n",
      "torch.Size([212162, 42])\n",
      "torch.Size([36941, 42])\n",
      "\n",
      "Minibatch output len/shapes:\n",
      " 2 torch.Size([1, 22, 1, 480, 640]) torch.Size([1, 22, 4, 4]) torch.Size([1, 22, 1, 480, 640]) torch.Size([1, 22, 3, 3]) torch.Size([1, 2122936, 42])\n",
      "pcd batched element shapes:\n",
      "torch.Size([1, 188719, 42])\n",
      "torch.Size([1, 95493, 42])\n",
      "\n",
      "Minibatch output len/shapes:\n",
      " 2 torch.Size([1, 22, 1, 480, 640]) torch.Size([1, 22, 4, 4]) torch.Size([1, 22, 1, 480, 640]) torch.Size([1, 22, 3, 3]) torch.Size([1, 2122936, 42])\n",
      "pcd batched element shapes:\n",
      "torch.Size([1, 188719, 42])\n",
      "torch.Size([1, 95493, 42])\n"
     ]
    }
   ],
   "source": [
    "MODE = 'normal'\n",
    "DATASET_NAME = 'overfit_O39_S1_C32_pcd_' + MODE #'proto_refine_pcd'\n",
    "NUM_CAMS = -1\n",
    "BATCH_SIZE = 1\n",
    "INSPECT_SHAPES = True\n",
    "RANDOM_PCD = False\n",
    "\n",
    "# create a dummy dataset and showcase dataloading\n",
    "test_dataset = PointCloudDataset(root='/home/nfs/inf6/data/datasets/semantic_pcd_data/'+DATASET_NAME, split='full',\n",
    "                                 num_steps=-1, num_cams=NUM_CAMS, random_pcd=RANDOM_PCD, cam_world=False)\n",
    "if INSPECT_SHAPES:\n",
    "    print('Length of test_dataset:', len(test_dataset), '\\n')\n",
    "\n",
    "# look at the data returned by this dataset\n",
    "if INSPECT_SHAPES:\n",
    "    test_output = test_dataset.__getitem__(0)\n",
    "    pcd, semseg, cam_pose, depth, cam_k, gt = test_output\n",
    "    print('Dataset __getitem__ output len/shapes:\\n', len(pcd), semseg.shape, cam_pose.shape, depth.shape, cam_k.shape, gt.shape, '\\n')\n",
    "    print('pcd element shapes:')\n",
    "    for item in pcd:\n",
    "        print(item.shape)\n",
    "    print()\n",
    "\n",
    "# define a collate function and a dataloader\n",
    "collate = CustomCollate(min_num_steps=1, max_num_steps=2)\n",
    "test_dataloader = DataLoader(test_dataset, batch_size=BATCH_SIZE, shuffle=False, collate_fn=collate)\n",
    "# look at the output shapes of each minibatch\n",
    "if INSPECT_SHAPES:\n",
    "    for pcd, semseg, cam_pose, depth, cam_k, gt in test_dataloader:\n",
    "        print('Minibatch output len/shapes:\\n', len(pcd), semseg.shape, cam_pose.shape, depth.shape, cam_k.shape, gt.shape)\n",
    "        print('pcd batched element shapes:')\n",
    "        for item in pcd:\n",
    "            print(item.shape)\n",
    "    print()\n",
    "\n",
    "# example for adapting the maximum number of fusion/refinement steps\n",
    "if INSPECT_SHAPES:\n",
    "    test_dataloader.collate_fn.set_steps(1, 6)\n",
    "    for pcd, semseg, cam_pose, depth, cam_k, gt in test_dataloader:\n",
    "        print('Minibatch output len/shapes:\\n', len(pcd), semseg.shape, cam_pose.shape, depth.shape, cam_k.shape, gt.shape)\n",
    "        print('pcd batched element shapes:')\n",
    "        for item in pcd:\n",
    "            print(item.shape)"
   ]
  },
  {
   "cell_type": "code",
   "execution_count": 6,
   "id": "f3685b95",
   "metadata": {},
   "outputs": [
    {
     "name": "stdout",
     "output_type": "stream",
     "text": [
      "Using device: cuda\n",
      "Channels: 39\n",
      "World size: tensor([140, 112, 100])\n",
      "Voxel size: tensor(0.0101)\n",
      "\n",
      "DATA LOADING\n",
      "Minibatch output len/shapes\n",
      " len(pcd), semseg.shape, cam_pose.shape, depth.shape, cam_k.shape\n",
      "6 torch.Size([1, 22, 1, 480, 640]) torch.Size([1, 22, 4, 4]) torch.Size([1, 22, 1, 480, 640]) torch.Size([1, 22, 3, 3])\n",
      "\n",
      "FUSION STEP\n",
      "Point cloud batch shape: torch.Size([1, 188719, 42])\n",
      "Point cloud batch shape: torch.Size([1, 95493, 42])\n",
      "Point cloud batch shape: torch.Size([1, 93658, 42])\n",
      "Point cloud batch shape: torch.Size([1, 42648, 42])\n",
      "Point cloud batch shape: torch.Size([1, 212162, 42])\n",
      "Point cloud batch shape: torch.Size([1, 36941, 42])\n",
      "Grid shapes: torch.Size([1, 41, 140, 112, 100]) torch.Size([1, 41, 140, 112, 100])\n"
     ]
    }
   ],
   "source": [
    "device = torch.device('cuda' if torch.cuda.is_available() else 'cpu')\n",
    "print('Using device:', device)\n",
    "dtype = torch.float32\n",
    "\n",
    "VERBOSE = True\n",
    "VIS = True\n",
    "RENDER = True\n",
    "N_STEPS = 6 # 6 is maximum\n",
    "EPS = 6e-1\n",
    "\n",
    "#remap_cuda = remap.to(device)\n",
    "\n",
    "voxel_grid_config = np.load('voxel_grid_config.npy', allow_pickle=True).item()\n",
    "\n",
    "print('Channels:', voxel_grid_config['channels'])\n",
    "print('World size:', voxel_grid_config['world_size'])\n",
    "print('Voxel size:', voxel_grid_config['voxel_size'])\n",
    "if voxel_grid_config['use_pos_enc']:\n",
    "    print('Positional encoding shape:', voxel_grid_config['pos_enc'].shape)\n",
    "print()\n",
    "\n",
    "# renderer setup\n",
    "N_RAYS = -1\n",
    "N_POINTS = 192\n",
    "\n",
    "\n",
    "##### train\n",
    "best_loss = 1e25\n",
    "test_dataloader.collate_fn.set_steps(N_STEPS, N_STEPS)\n",
    "data_loader_items = list(iter(test_dataloader))\n",
    "pcd, semseg, cam_pose, depth, cam_k, gt = data_loader_items[0]\n",
    "semseg, cam_pose, depth, cam_k = semseg.to(device), cam_pose.to(device), depth.to(device), cam_k.to(device)\n",
    "#semseg = remap_cuda[semseg]\n",
    "if VERBOSE:\n",
    "    print('DATA LOADING')\n",
    "    print('Minibatch output len/shapes\\n', 'len(pcd), semseg.shape, cam_pose.shape, depth.shape, cam_k.shape')\n",
    "    print(len(pcd), semseg.shape, cam_pose.shape, depth.shape, cam_k.shape)\n",
    "    print()\n",
    "\n",
    "##### FUSION STEP\n",
    "if VERBOSE:\n",
    "    print('FUSION STEP')\n",
    "grid_batch = None\n",
    "grid_batch_refined = None\n",
    "for k, point_cloud_batch in enumerate(pcd):\n",
    "    if VERBOSE:\n",
    "        print('Point cloud batch shape:', point_cloud_batch.shape)\n",
    "    # fuse voxels\n",
    "    with torch.no_grad():\n",
    "        grid_batch = batch_fuse_to_grid(point_cloud_batch.to(device), grid_batch,\n",
    "                                        world_size=voxel_grid_config['world_size'],\n",
    "                                        channels=voxel_grid_config['channels'],\n",
    "                                        range_min=voxel_grid_config['range_min'],\n",
    "                                        range_max=voxel_grid_config['range_max'],\n",
    "                                        density_step=voxel_grid_config['density_factor']*voxel_grid_config['voxel_size'])\n",
    "with torch.no_grad():\n",
    "    # switch to probabilities\n",
    "    grid_batch_unrefined = torch.cat([grid_batch[:,:1], torch.exp(grid_batch[:,1:-1]), grid_batch[:,-1:]], dim=1)\n",
    "\n",
    "print('Grid shapes:', grid_batch.shape, grid_batch_unrefined.shape)"
   ]
  },
  {
   "cell_type": "markdown",
   "id": "c9723351",
   "metadata": {},
   "source": [
    "renders, renders_depth, trs = render_orbit(grid_batch_unrefined.half(), voxel_grid_config, cam_k,  \n",
    "                                           r=0.9, h=1., n_steps=300, n_points=N_POINTS, axis='z', \n",
    "                                           look_at=np.array([0,0,0.92]), max_chunksize=100000000)\n",
    "render_vis = cmap_39[renders.argmax(1).squeeze()]\n",
    "background_render = torch.abs(trs - 1) <= 0\n",
    "render_vis[background_render] = torch.zeros(3).to(render_vis.device)\n",
    "render_vis_np = (255*render_vis).byte().numpy()\n",
    "clip = mpy.ImageSequenceClip([item for item in render_vis_np], fps=30)\n",
    "clip.ipython_display()"
   ]
  },
  {
   "cell_type": "code",
   "execution_count": 7,
   "id": "6d5ac35a",
   "metadata": {},
   "outputs": [
    {
     "name": "stdout",
     "output_type": "stream",
     "text": [
      "Dummy input shapes: torch.Size([1, 22, 1, 480, 640]) torch.Size([1, 22, 4, 4]) torch.Size([1, 22, 1, 480, 640]) torch.Size([1, 22, 3, 3])\n",
      "Miss counter shape: torch.Size([1, 2, 140, 112, 100])\n"
     ]
    }
   ],
   "source": [
    "num_frames = 22\n",
    "semseg_dummy, cam_pose_dummy, depth_dummy, cam_k_dummy = semseg[:,:num_frames], cam_pose[:,:num_frames], depth[:,:num_frames], cam_k[:,:num_frames]\n",
    "print('Dummy input shapes:', semseg_dummy.shape, cam_pose_dummy.shape, depth_dummy.shape, cam_k_dummy.shape)\n",
    "\n",
    "B = depth_dummy.shape[0]\n",
    "H, W, D = 140, 112, 100\n",
    "n_misses = torch.zeros([B, 2, H, W, D]).to(device)\n",
    "print('Miss counter shape:', n_misses.shape)"
   ]
  },
  {
   "cell_type": "code",
   "execution_count": 8,
   "id": "0958476a",
   "metadata": {},
   "outputs": [
    {
     "name": "stdout",
     "output_type": "stream",
     "text": [
      "tensor([[ 0.8818, -0.2428,  0.4044, -0.4271],\n",
      "        [-0.4717, -0.4539,  0.7560, -0.7984],\n",
      "        [ 0.0000, -0.8573, -0.5148,  1.4573],\n",
      "        [ 0.0000,  0.0000,  0.0000,  1.0000]], device='cuda:0')\n",
      "tensor([[ 0.2531, -0.5971,  0.7612, -0.9565],\n",
      "        [-0.9674, -0.1562,  0.1992, -0.2502],\n",
      "        [ 0.0000, -0.7868, -0.6172,  1.6891],\n",
      "        [ 0.0000,  0.0000,  0.0000,  1.0000]], device='cuda:0')\n",
      "tensor([[-0.9993, -0.0211,  0.0304, -0.0304],\n",
      "        [-0.0370,  0.5694, -0.8212,  0.8215],\n",
      "        [ 0.0000, -0.8218, -0.5698,  1.4836],\n",
      "        [ 0.0000,  0.0000,  0.0000,  1.0000]], device='cuda:0')\n",
      "tensor([[ 0.1456,  0.6112, -0.7780,  0.9904],\n",
      "        [ 0.9893, -0.0900,  0.1145, -0.1458],\n",
      "        [ 0.0000, -0.7864, -0.6178,  1.7001],\n",
      "        [ 0.0000,  0.0000,  0.0000,  1.0000]], device='cuda:0')\n",
      "tensor([[-0.3105, -0.3118,  0.8980, -1.2830],\n",
      "        [-0.9506,  0.1019, -0.2934,  0.4191],\n",
      "        [ 0.0000, -0.9447, -0.3280,  1.3824],\n",
      "        [ 0.0000,  0.0000,  0.0000,  1.0000]], device='cuda:0')\n",
      "tensor([[-0.9692,  0.1382, -0.2039,  0.2066],\n",
      "        [ 0.2463,  0.5439, -0.8022,  0.8129],\n",
      "        [ 0.0000, -0.8277, -0.5612,  1.4824],\n",
      "        [ 0.0000,  0.0000,  0.0000,  1.0000]], device='cuda:0')\n",
      "tensor([[-0.9472,  0.2878, -0.1411,  0.1420],\n",
      "        [ 0.3205,  0.8505, -0.4171,  0.4197],\n",
      "        [ 0.0000, -0.4403, -0.8979,  1.8172],\n",
      "        [ 0.0000,  0.0000,  0.0000,  1.0000]], device='cuda:0')\n",
      "tensor([[ 0.1260,  0.2250, -0.9662,  1.5100],\n",
      "        [ 0.9920, -0.0286,  0.1227, -0.1918],\n",
      "        [ 0.0000, -0.9739, -0.2268,  1.2682],\n",
      "        [ 0.0000,  0.0000,  0.0000,  1.0000]], device='cuda:0')\n",
      "tensor([[-0.6574,  0.5718, -0.4908,  0.5331],\n",
      "        [ 0.7536,  0.4988, -0.4282,  0.4651],\n",
      "        [ 0.0000, -0.6513, -0.7588,  1.7379],\n",
      "        [ 0.0000,  0.0000,  0.0000,  1.0000]], device='cuda:0')\n",
      "tensor([[ 0.0558,  0.2011, -0.9780,  1.5563],\n",
      "        [ 0.9984, -0.0112,  0.0547, -0.0870],\n",
      "        [ 0.0000, -0.9795, -0.2014,  1.2342],\n",
      "        [ 0.0000,  0.0000,  0.0000,  1.0000]], device='cuda:0')\n",
      "tensor([[-0.9354, -0.3438,  0.0830, -0.0832],\n",
      "        [-0.3537,  0.9092, -0.2195,  0.2200],\n",
      "        [ 0.0000, -0.2347, -0.9721,  1.8879],\n",
      "        [ 0.0000,  0.0000,  0.0000,  1.0000]], device='cuda:0')\n",
      "tensor([[ 0.3183,  0.7903, -0.5236,  0.5759],\n",
      "        [ 0.9480, -0.2653,  0.1758, -0.1933],\n",
      "        [ 0.0000, -0.5523, -0.8336,  1.8306],\n",
      "        [ 0.0000,  0.0000,  0.0000,  1.0000]], device='cuda:0')\n",
      "tensor([[-0.1351,  0.2061, -0.9692,  1.5215],\n",
      "        [ 0.9908,  0.0281, -0.1321,  0.2074],\n",
      "        [ 0.0000, -0.9781, -0.2080,  1.2403],\n",
      "        [ 0.0000,  0.0000,  0.0000,  1.0000]], device='cuda:0')\n",
      "tensor([[ 0.9999, -0.0087,  0.0079, -0.0079],\n",
      "        [-0.0118, -0.7378,  0.6749, -0.6750],\n",
      "        [ 0.0000, -0.6750, -0.7378,  1.6515],\n",
      "        [ 0.0000,  0.0000,  0.0000,  1.0000]], device='cuda:0')\n",
      "tensor([[ 0.7890, -0.3791,  0.4835, -0.5238],\n",
      "        [-0.6144, -0.4868,  0.6209, -0.6726],\n",
      "        [ 0.0000, -0.7870, -0.6170,  1.5821],\n",
      "        [ 0.0000,  0.0000,  0.0000,  1.0000]], device='cuda:0')\n",
      "tensor([[ 0.9890,  0.0571, -0.1363,  0.1371],\n",
      "        [ 0.1478, -0.3824,  0.9121, -0.9175],\n",
      "        [ 0.0000, -0.9222, -0.3866,  1.3026],\n",
      "        [ 0.0000,  0.0000,  0.0000,  1.0000]], device='cuda:0')\n",
      "tensor([[ 0.9359, -0.2826,  0.2103, -0.2133],\n",
      "        [-0.3522, -0.7508,  0.5587, -0.5667],\n",
      "        [ 0.0000, -0.5970, -0.8023,  1.7274],\n",
      "        [ 0.0000,  0.0000,  0.0000,  1.0000]], device='cuda:0')\n",
      "tensor([[ 0.1556,  0.2494, -0.9558,  1.4713],\n",
      "        [ 0.9878, -0.0393,  0.1506, -0.2318],\n",
      "        [ 0.0000, -0.9676, -0.2525,  1.3024],\n",
      "        [ 0.0000,  0.0000,  0.0000,  1.0000]], device='cuda:0')\n",
      "tensor([[-0.7283,  0.6116, -0.3089,  0.3187],\n",
      "        [ 0.6852,  0.6501, -0.3284,  0.3388],\n",
      "        [ 0.0000, -0.4508, -0.8926,  1.8345],\n",
      "        [ 0.0000,  0.0000,  0.0000,  1.0000]], device='cuda:0')\n",
      "tensor([[ 0.0256,  0.9395, -0.3416,  0.3549],\n",
      "        [ 0.9997, -0.0241,  0.0087, -0.0091],\n",
      "        [ 0.0000, -0.3417, -0.9398,  1.8902],\n",
      "        [ 0.0000,  0.0000,  0.0000,  1.0000]], device='cuda:0')\n",
      "tensor([[ 0.1769, -0.9261,  0.3333, -0.3457],\n",
      "        [-0.9842, -0.1665,  0.0599, -0.0621],\n",
      "        [ 0.0000, -0.3387, -0.9409,  1.8895],\n",
      "        [ 0.0000,  0.0000,  0.0000,  1.0000]], device='cuda:0')\n",
      "tensor([[ 0.2434,  0.2232, -0.9439,  1.4290],\n",
      "        [ 0.9699, -0.0560,  0.2369, -0.3587],\n",
      "        [ 0.0000, -0.9732, -0.2301,  1.2620],\n",
      "        [ 0.0000,  0.0000,  0.0000,  1.0000]], device='cuda:0')\n"
     ]
    }
   ],
   "source": [
    "for i in range(num_frames):\n",
    "    #print(cam_k_dummy.squeeze(0)[i])\n",
    "    print(cam_pose_dummy.squeeze(0)[i])"
   ]
  },
  {
   "cell_type": "code",
   "execution_count": 9,
   "id": "08e10842",
   "metadata": {},
   "outputs": [
    {
     "name": "stdout",
     "output_type": "stream",
     "text": [
      "torch.Size([1, 22, 3]) torch.Size([1, 22, 307200, 3]) None torch.Size([1, 22, 307200]) torch.Size([3]) torch.Size([3])\n"
     ]
    }
   ],
   "source": [
    "from grid_fusion_pytorch.render import sample_rays\n",
    "\n",
    "ray_origs, ray_dirs, semseg_out, depth_out = sample_rays(cam_pose_dummy, cam_k_dummy, depth=depth_dummy, normalize=False)\n",
    "depth_out = depth_out.squeeze(-1)\n",
    "range_max, range_min = voxel_grid_config['range_max'][:3].to(device), voxel_grid_config['range_min'][:3].to(device)\n",
    "print(ray_origs.shape, ray_dirs.shape, semseg_out, depth_out.shape, range_min.shape, range_max.shape)\n",
    "# todo: get point clouds here and apply old fusion for comparison"
   ]
  },
  {
   "cell_type": "code",
   "execution_count": 10,
   "id": "ce32ae96",
   "metadata": {},
   "outputs": [
    {
     "name": "stdout",
     "output_type": "stream",
     "text": [
      "torch.Size([1, 22, 307200])\n",
      "torch.Size([1, 22, 307200, 39])\n",
      "tensor(106.0130, device='cuda:0')\n",
      "tensor(-9.2103, device='cuda:0') tensor(1., device='cuda:0')\n"
     ]
    }
   ],
   "source": [
    "semseg_reshape = semseg_dummy.squeeze(2).flatten(-2,-1)\n",
    "print(semseg_reshape.shape)\n",
    "semseg_soft = torch.log(soften_semseg(semseg_reshape))\n",
    "semseg_soft[semseg_reshape == -1] = torch.ones(semseg_soft.shape[-1]).to(semseg_soft.device)\n",
    "print(semseg_soft.shape)\n",
    "print(torch.exp(semseg_soft[0,0,0]).sum())\n",
    "print(semseg_soft.min(), semseg_soft.max())"
   ]
  },
  {
   "cell_type": "code",
   "execution_count": 11,
   "id": "e5004e2d",
   "metadata": {},
   "outputs": [
    {
     "name": "stderr",
     "output_type": "stream",
     "text": [
      "Using /home/nogga/.cache/torch_extensions/py38_cu117 as PyTorch extensions root...\n",
      "Detected CUDA files, patching ldflags\n",
      "Emitting ninja build file /home/nogga/.cache/torch_extensions/py38_cu117/counting_model_util_cuda/build.ninja...\n",
      "Building extension module counting_model_util_cuda...\n",
      "Allowing ninja to set a default number of workers... (overridable by setting the environment variable MAX_JOBS=N)\n"
     ]
    },
    {
     "name": "stdout",
     "output_type": "stream",
     "text": [
      "ninja: no work to do.\n",
      "torch.Size([1, 2, 140, 112, 100])\n"
     ]
    },
    {
     "name": "stderr",
     "output_type": "stream",
     "text": [
      "Loading extension module counting_model_util_cuda...\n"
     ]
    }
   ],
   "source": [
    "from lib.counting_model import apply_counting_model\n",
    "\n",
    "out = apply_counting_model(n_misses, ray_origs, ray_dirs, depth_out, range_min, range_max)\n",
    "print(out.shape)"
   ]
  },
  {
   "cell_type": "code",
   "execution_count": 12,
   "id": "fae63b5b",
   "metadata": {},
   "outputs": [],
   "source": [
    "#n_scenes = n_misses.shape[]"
   ]
  },
  {
   "cell_type": "code",
   "execution_count": 13,
   "id": "e1f544d9",
   "metadata": {},
   "outputs": [
    {
     "data": {
      "image/png": "[encoded data removed]",
      "text/plain": [
       "<Figure size 640x480 with 1 Axes>"
      ]
     },
     "metadata": {},
     "output_type": "display_data"
    },
    {
     "data": {
      "image/png": "[encoded data removed]",
      "text/plain": [
       "<Figure size 640x480 with 1 Axes>"
      ]
     },
     "metadata": {},
     "output_type": "display_data"
    },
    {
     "data": {
      "image/png": "[encoded data removed]",
      "text/plain": [
       "<Figure size 640x480 with 1 Axes>"
      ]
     },
     "metadata": {},
     "output_type": "display_data"
    },
    {
     "data": {
      "image/png": "[encoded data removed]",
      "text/plain": [
       "<Figure size 640x480 with 1 Axes>"
      ]
     },
     "metadata": {},
     "output_type": "display_data"
    }
   ],
   "source": [
    "miss_sum_hist, miss_max_hist = [], []\n",
    "hit_sum_hist, hit_max_hist = [], []\n",
    "#n_steps = np.array([16, 64, 256, 1024, 2048, 4096, 8192, 16384, 32768])\n",
    "n_steps = np.array([2048, 4096])\n",
    "for steps in n_steps:\n",
    "    out = apply_counting_model(n_misses, ray_origs, ray_dirs, depth_out, range_min, range_max, Semseg=semseg_soft, n_steps=steps)\n",
    "    out_miss = out[:,0]\n",
    "    out_hit = out[:,1]\n",
    "    miss_sum_hist.append(out_miss.sum().cpu().item())\n",
    "    miss_max_hist.append(out_miss.max().cpu().item())\n",
    "    hit_sum_hist.append(out_hit.sum().cpu().item())\n",
    "    hit_max_hist.append(out_hit.max().cpu().item())\n",
    "plt.plot(n_steps, np.array(miss_sum_hist))\n",
    "plt.show()\n",
    "plt.plot(n_steps, np.array(miss_max_hist))\n",
    "plt.show()\n",
    "plt.plot(n_steps, np.array(hit_sum_hist))\n",
    "plt.show()\n",
    "plt.plot(n_steps, np.array(hit_max_hist))\n",
    "plt.show()"
   ]
  },
  {
   "cell_type": "code",
   "execution_count": 14,
   "id": "0b7dfdfd",
   "metadata": {},
   "outputs": [
    {
     "name": "stdout",
     "output_type": "stream",
     "text": [
      "tensor(0., device='cuda:0')\n",
      "tensor(5.6027e+08, device='cuda:0') tensor(0., device='cuda:0') tensor(1353., device='cuda:0')\n",
      "tensor(1453315., device='cuda:0') tensor(0., device='cuda:0') tensor(298., device='cuda:0')\n"
     ]
    }
   ],
   "source": [
    "print(n_misses.sum())\n",
    "print(out_miss.sum(), out_miss.min(), out_miss.max())\n",
    "print(out_hit.sum(), out_hit.min(), out_hit.max())"
   ]
  },
  {
   "cell_type": "code",
   "execution_count": 15,
   "id": "4373029a",
   "metadata": {},
   "outputs": [],
   "source": [
    "from matplotlib import animation\n",
    "from IPython.display import HTML\n",
    "\n",
    "def animate_slice(counter, title='untitled', mode='w', fps=20, blit=True, vmax=128):\n",
    "    fig = plt.figure()\n",
    "    plt.axis('off')\n",
    "    if mode == 'w':\n",
    "        out_slice_w = counter[0,-1,:,:]\n",
    "        im=plt.imshow(out_slice_w.cpu().flip(-1).T,cmap='Greys', vmin=0, vmax=vmax)\n",
    "        frames = counter.shape[-3]\n",
    "        def init():\n",
    "            im.set_data(out_slice_w.cpu().flip(-1).T)\n",
    "            return [im]\n",
    "        def animate(i):\n",
    "            out_slice_w = counter[0,-(i+1),:,:]\n",
    "            im.set_array(out_slice_w.cpu().flip(-1).T)\n",
    "            return [im]\n",
    "    elif mode == 'h':\n",
    "        out_slice_h = counter[0,:,-1,:]\n",
    "        im=plt.imshow(out_slice_h.cpu().flip(-1).T,cmap='Greys', vmin=0, vmax=vmax)\n",
    "        frames = counter.shape[-2]\n",
    "        def init():\n",
    "            im.set_data(out_slice_h.cpu().flip(-1).T)\n",
    "            return [im]\n",
    "        def animate(i):\n",
    "            out_slice_h = counter[0,:,-(i+1),:]\n",
    "            im.set_array(out_slice_h.cpu().flip(-1).T)\n",
    "            return [im]\n",
    "    else:\n",
    "        out_slice_d = counter[0,:,:,-1]\n",
    "        im=plt.imshow(out_slice_d.cpu().T,cmap='Greys', vmin=0, vmax=vmax)\n",
    "        frames = counter.shape[-1]\n",
    "        def init():\n",
    "            im.set_data(out_slice_d.cpu().T)\n",
    "            return [im]\n",
    "        def animate(i):\n",
    "            out_slice_d = counter[0,:,:,-(i+1)]\n",
    "            im.set_array(out_slice_d.cpu().T)\n",
    "            return [im]\n",
    "    #print(frames)\n",
    "    anim = animation.FuncAnimation(fig, animate, init_func=init,\n",
    "                               frames=frames, interval=20, blit=blit)\n",
    "    anim.save('slice_'+title+'_'+mode+'.gif', fps=fps)\n",
    "    plt.close()\n",
    "    return None"
   ]
  },
  {
   "cell_type": "code",
   "execution_count": 16,
   "id": "c308f069",
   "metadata": {},
   "outputs": [
    {
     "name": "stdout",
     "output_type": "stream",
     "text": [
      "torch.Size([1, 140, 112, 100]) torch.Size([1, 140, 112, 100])\n",
      "torch.Size([1, 140, 112, 100]) tensor(0., device='cuda:0') tensor(1., device='cuda:0') tensor(0.0093, device='cuda:0')\n"
     ]
    }
   ],
   "source": [
    "print(out_hit.shape, out_miss.shape)\n",
    "def calc_reflect_prob(hits, misses):\n",
    "    return torch.where(hits > 0, hits/(hits + misses), 0)\n",
    "p_reflect = calc_reflect_prob(out_hit, out_miss)\n",
    "print(p_reflect.shape, p_reflect.min(), p_reflect.max(), p_reflect.mean())"
   ]
  },
  {
   "cell_type": "code",
   "execution_count": 17,
   "id": "3c383747",
   "metadata": {},
   "outputs": [
    {
     "name": "stderr",
     "output_type": "stream",
     "text": [
      "MovieWriter ffmpeg unavailable; using Pillow instead.\n",
      "MovieWriter ffmpeg unavailable; using Pillow instead.\n",
      "MovieWriter ffmpeg unavailable; using Pillow instead.\n"
     ]
    }
   ],
   "source": [
    "cat_dims = [-2, -3, -3]\n",
    "for i, mode in enumerate(['w', 'h', 'd']):\n",
    "    animate_slice(torch.cat([out_hit, out_miss, p_reflect], dim=cat_dims[i]), title='counter', mode=mode, fps=5, vmax=1.)"
   ]
  },
  {
   "cell_type": "code",
   "execution_count": 18,
   "id": "8dc62514",
   "metadata": {},
   "outputs": [
    {
     "name": "stdout",
     "output_type": "stream",
     "text": [
      "tensor(32862, device='cuda:0')\n",
      "tensor(1467849, device='cuda:0')\n",
      "tensor(1397, device='cuda:0')\n"
     ]
    }
   ],
   "source": [
    "print(torch.logical_and(out_miss > 0,out_hit > 0).sum())\n",
    "print(torch.logical_and(out_miss > 0,out_hit == 0).sum())\n",
    "print(torch.logical_and(out_miss == 0,out_hit > 0).sum())"
   ]
  },
  {
   "cell_type": "code",
   "execution_count": 19,
   "id": "413d9a98",
   "metadata": {},
   "outputs": [
    {
     "name": "stdout",
     "output_type": "stream",
     "text": [
      "torch.Size([1, 22, 1, 480, 640])\n",
      "tensor(-1) tensor(38)\n"
     ]
    },
    {
     "data": {
      "image/png": "[encoded data removed]",
      "text/plain": [
       "<Figure size 640x480 with 1 Axes>"
      ]
     },
     "metadata": {},
     "output_type": "display_data"
    }
   ],
   "source": [
    "print(semseg_dummy.shape)\n",
    "semseg_example = semseg_dummy[0,-1,0].cpu()\n",
    "print(semseg_example.min(), semseg_example.max())\n",
    "semseg_rgb = cmap_39[semseg_example]\n",
    "semseg_rgb[semseg_example == -1] = torch.zeros(3)\n",
    "plt.imshow(semseg_rgb)\n",
    "plt.axis('off')\n",
    "plt.show()"
   ]
  },
  {
   "cell_type": "code",
   "execution_count": 20,
   "id": "1af8eff2",
   "metadata": {},
   "outputs": [
    {
     "name": "stdout",
     "output_type": "stream",
     "text": [
      "torch.Size([1, 41, 140, 112, 100])\n",
      "False\n",
      "False\n",
      "20275200\n",
      "torch.Size([1, 22, 307200, 39])\n"
     ]
    }
   ],
   "source": [
    "map_in = torch.zeros([B, 2 + 39, H, W, D]).to(device)\n",
    "map_in[:,2:] = 1 / (map_in.shape[1]-2)\n",
    "map_in[:,2:] = torch.log(map_in[:,2:])\n",
    "map_out = apply_counting_model(map_in, ray_origs, ray_dirs, depth_out, range_min, range_max, Semseg=semseg_soft, n_steps=4096, verbose=True)\n",
    "print(map_out.shape)\n",
    "print(torch.allclose(map_in[:,2:], map_out[:,2:]))\n",
    "print(torch.allclose(map_in[:,:2], map_out[:,:2]))\n",
    "print(ray_dirs.numel())\n",
    "print(semseg_soft.shape)"
   ]
  },
  {
   "cell_type": "code",
   "execution_count": 21,
   "id": "bb753405",
   "metadata": {},
   "outputs": [
    {
     "name": "stdout",
     "output_type": "stream",
     "text": [
      "torch.Size([1, 41, 140, 112, 100]) torch.Size([1, 41, 140, 112, 100])\n",
      "tensor(1.0000, device='cuda:0')\n",
      "tensor(1.0000, device='cuda:0')\n"
     ]
    }
   ],
   "source": [
    "print(map_in.shape, map_out.shape)\n",
    "print(torch.exp(map_in[:,2:]).sum(1).mean())\n",
    "print(torch.exp(map_out[:,2:]).sum(1).mean())"
   ]
  },
  {
   "cell_type": "markdown",
   "id": "65e97acc",
   "metadata": {},
   "source": [
    "USE_MISSES = True\n",
    "with torch.no_grad():\n",
    "    # switch to correct format for rendering\n",
    "    if USE_MISSES:\n",
    "        density = map_out[:,1:2]*calc_reflect_prob(map_out[:,1:2], map_out[:,0:1])*voxel_grid_config['density_factor']*voxel_grid_config['voxel_size']\n",
    "    else:\n",
    "        density = map_out[:,1:2]*voxel_grid_config['density_factor']*voxel_grid_config['voxel_size']\n",
    "    print(density.shape, density.min(), density.max(), density.mean()) # max/mean hits: 22k/94 reflect: 101/1 \n",
    "    grid_fused = torch.cat([density, torch.exp(map_out[:,2:]), map_in[:,-1:]], dim=1)\n",
    "renders, renders_depth, trs = render_orbit(grid_fused.half(), voxel_grid_config, cam_k,  \n",
    "                                           r=0.9, h=1., n_steps=300, n_points=N_POINTS, axis='z', \n",
    "                                           look_at=np.array([0,0,0.92]), max_chunksize=100000000)\n",
    "render_vis = cmap_39[renders.argmax(1).squeeze()]\n",
    "background_render = torch.abs(trs - 1) <= 0\n",
    "render_vis[background_render] = torch.zeros(3).to(render_vis.device)\n",
    "render_vis_np = (255*render_vis).byte().numpy()\n",
    "clip = mpy.ImageSequenceClip([item for item in render_vis_np], fps=30)\n",
    "clip.ipython_display()"
   ]
  },
  {
   "cell_type": "code",
   "execution_count": 22,
   "id": "7a518d3d",
   "metadata": {},
   "outputs": [],
   "source": [
    "# TODO:\n",
    "# sanity-check for scene batch size > 1\n",
    "# document apply counting model"
   ]
  },
  {
   "cell_type": "code",
   "execution_count": 23,
   "id": "3b7ea0bb",
   "metadata": {},
   "outputs": [
    {
     "name": "stdout",
     "output_type": "stream",
     "text": [
      "Bayesian fusion took 0.021945484729985764 seconds per call using 20275200 rays.\n",
      "This corresponds to about 923.9 million ray casts per second.\n"
     ]
    }
   ],
   "source": [
    "import timeit\n",
    "n_trials = 10\n",
    "n_calls = 10\n",
    "timed_func = timeit.Timer(lambda: apply_counting_model(map_in, ray_origs, ray_dirs, depth_out, range_min, range_max, Semseg=semseg_soft, n_steps=4096, verbose=True))  \n",
    "exec_times = timed_func.repeat(repeat=n_trials, number=n_calls)\n",
    "#print(exec_times)\n",
    "num_rays = ray_dirs.numel()\n",
    "print(f\"Bayesian fusion took {np.mean(exec_times)/n_calls} seconds per call using {num_rays} rays.\")\n",
    "print(f\"This corresponds to about {np.round((num_rays/(np.mean(exec_times)/n_calls))/1000000,1)} million ray casts per second.\")"
   ]
  },
  {
   "cell_type": "code",
   "execution_count": null,
   "id": "bda5dee9",
   "metadata": {},
   "outputs": [],
   "source": []
  }
 ],
 "metadata": {
  "kernelspec": {
   "display_name": "Python 3 (ipykernel)",
   "language": "python",
   "name": "python3"
  },
  "language_info": {
   "codemirror_mode": {
    "name": "ipython",
    "version": 3
   },
   "file_extension": ".py",
   "mimetype": "text/x-python",
   "name": "python",
   "nbconvert_exporter": "python",
   "pygments_lexer": "ipython3",
   "version": "3.8.10"
  }
 },
 "nbformat": 4,
 "nbformat_minor": 5
}
