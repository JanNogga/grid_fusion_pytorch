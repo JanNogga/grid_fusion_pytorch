{
  "cells": [
    {
      "cell_type": "markdown",
      "metadata": {
        "id": "view-in-github",
        "colab_type": "text"
      },
      "source": [
        "<a href=\"https://colab.research.google.com/github/JanNogga/grid_fusion_pytorch/blob/main/colab_demo.ipynb\" target=\"_parent\"><img src=\"https://colab.research.google.com/assets/colab-badge.svg\" alt=\"Open In Colab\"/></a>"
      ]
    },
    {
      "cell_type": "code",
      "source": [
        "!pip install grid-fusion-pytorch"
      ],
      "metadata": {
        "colab": {
          "base_uri": "https://localhost:8080/"
        },
        "id": "cuTm7xHHZFNE",
        "outputId": "d3be3bd9-ccd3-4e98-aed4-88cfc3082f5b"
      },
      "id": "cuTm7xHHZFNE",
      "execution_count": 1,
      "outputs": [
        {
          "output_type": "stream",
          "name": "stdout",
          "text": [
            "Requirement already satisfied: grid-fusion-pytorch in /usr/local/lib/python3.10/dist-packages (0.1.2)\n",
            "Requirement already satisfied: ninja in /usr/local/lib/python3.10/dist-packages (from grid-fusion-pytorch) (1.11.1)\n"
          ]
        }
      ]
    },
    {
      "cell_type": "code",
      "execution_count": 2,
      "id": "9e019253",
      "metadata": {
        "colab": {
          "base_uri": "https://localhost:8080/"
        },
        "id": "9e019253",
        "outputId": "1e9a9f16-790c-40fb-ddbf-24daf96ff2ba"
      },
      "outputs": [
        {
          "output_type": "stream",
          "name": "stderr",
          "text": [
            "Using /root/.cache/torch_extensions/py310_cu118 as PyTorch extensions root...\n",
            "Detected CUDA files, patching ldflags\n",
            "Emitting ninja build file /root/.cache/torch_extensions/py310_cu118/counting_model_util_cuda/build.ninja...\n",
            "Building extension module counting_model_util_cuda...\n",
            "Allowing ninja to set a default number of workers... (overridable by setting the environment variable MAX_JOBS=N)\n",
            "Loading extension module counting_model_util_cuda...\n",
            "Using /root/.cache/torch_extensions/py310_cu118 as PyTorch extensions root...\n",
            "Detected CUDA files, patching ldflags\n",
            "Emitting ninja build file /root/.cache/torch_extensions/py310_cu118/point_cloud_fusion_util_cuda/build.ninja...\n",
            "Building extension module point_cloud_fusion_util_cuda...\n",
            "Allowing ninja to set a default number of workers... (overridable by setting the environment variable MAX_JOBS=N)\n",
            "Loading extension module point_cloud_fusion_util_cuda...\n"
          ]
        }
      ],
      "source": [
        "import os\n",
        "import torch\n",
        "import timeit\n",
        "import numpy as np\n",
        "\n",
        "# we only need moviepy if we want to visualize the fused voxel grids slice-by-slice\n",
        "from moviepy.editor import ImageSequenceClip\n",
        "\n",
        "# these modules are compiled the first time they are loaded\n",
        "from torch_fusion.util import sample_rays, download_example_data, soften_semseg\n",
        "from torch_fusion.counting_model import apply_counting_model\n",
        "from torch_fusion.point_cloud_fusion import apply_point_cloud_fusion"
      ]
    },
    {
      "cell_type": "code",
      "execution_count": 3,
      "id": "d34caa95",
      "metadata": {
        "id": "d34caa95"
      },
      "outputs": [],
      "source": [
        "# make sure to use a GPU session in colab\n",
        "assert torch.cuda.is_available()\n",
        "device = torch.device(\"cuda\")"
      ]
    },
    {
      "cell_type": "code",
      "execution_count": 4,
      "id": "0ee71f41",
      "metadata": {
        "colab": {
          "base_uri": "https://localhost:8080/"
        },
        "id": "0ee71f41",
        "outputId": "d4df9c82-64c6-4880-96bf-17a04c3bfa2a"
      },
      "outputs": [
        {
          "output_type": "stream",
          "name": "stdout",
          "text": [
            "Output directory already exists. Check if data is already downloaded, else delete example_data_download and try again.\n"
          ]
        }
      ],
      "source": [
        "# to show examples we need some example data - download it\n",
        "example_data_path = 'example_data_download'\n",
        "download_example_data(out_dir=example_data_path)\n",
        "local_files = os.path.join(example_data_path, 'grid_fusion_pytorch_example_data')"
      ]
    },
    {
      "cell_type": "markdown",
      "id": "55b78542",
      "metadata": {
        "id": "55b78542"
      },
      "source": [
        "### Counting model"
      ]
    },
    {
      "cell_type": "code",
      "execution_count": 5,
      "id": "8f7e91f9",
      "metadata": {
        "colab": {
          "base_uri": "https://localhost:8080/"
        },
        "id": "8f7e91f9",
        "outputId": "685c1b67-c4a4-44ea-b9bb-fe695adada2a"
      },
      "outputs": [
        {
          "output_type": "stream",
          "name": "stdout",
          "text": [
            "Loaded world dimensions lower limits. Shape: torch.Size([3])\n",
            "Loaded world dimensions upper limits. Shape: torch.Size([3])\n"
          ]
        }
      ],
      "source": [
        "# define batch size and number of classes for this example\n",
        "B, C = 1, 39\n",
        "# define resolution of the map\n",
        "H, W, D = 140, 112, 100\n",
        "# initialize empty counter map - the two channels are hits + misses\n",
        "counter_map_in = torch.zeros([B, 2, H, W, D]).to(device)\n",
        "# intialize semantic map with uniform distribution\n",
        "semantic_map_in = torch.ones([B, C, H, W, D]).to(device)\n",
        "semantic_map_in *= 1 / (semantic_map_in.shape[1])\n",
        "# convert probabilities to log probs\n",
        "semantic_map_in = torch.log(semantic_map_in)\n",
        "\n",
        "# furthermore we need to specify the dimensions of this map in the real world\n",
        "range_min = torch.load(os.path.join(local_files,'example_world_limits_lower.pt')).cuda()\n",
        "print('Loaded world dimensions lower limits. Shape:', range_min.shape)\n",
        "range_max = torch.load(os.path.join(local_files,'example_world_limits_upper.pt')).cuda()\n",
        "print('Loaded world dimensions upper limits. Shape:', range_max.shape)\n",
        "# this can be specified per batch element, else assume each map in the batch is equally large"
      ]
    },
    {
      "cell_type": "code",
      "execution_count": 6,
      "id": "9339446f",
      "metadata": {
        "colab": {
          "base_uri": "https://localhost:8080/"
        },
        "id": "9339446f",
        "outputId": "4def2bb9-f49c-4ad3-da70-aec0a404cc8f"
      },
      "outputs": [
        {
          "output_type": "stream",
          "name": "stdout",
          "text": [
            "Loaded batch of camera poses. Shape: torch.Size([1, 22, 4, 4])\n",
            "Loaded batch of camera intrinsics. Shape: torch.Size([1, 22, 3, 3])\n",
            "Loaded batch of depth images. Shape: torch.Size([1, 22, 1, 480, 640])\n",
            "Loaded batch of semantic segmentation masks. Shape: torch.Size([1, 22, 1, 480, 640])\n",
            "Calculated ray origins. Shape: torch.Size([1, 22, 3])\n",
            "Calculated ray directions. Shape: torch.Size([1, 22, 307200, 3])\n",
            "Reshaped depth accordingly. Shape: torch.Size([1, 22, 307200])\n",
            "Converted semantic segmentation to eps-soft log probs. Shape: torch.Size([1, 22, 307200, 39])\n"
          ]
        }
      ],
      "source": [
        "cam_pose_batch = torch.load(os.path.join(local_files,'example_cam_pose_batch.pt')).cuda()\n",
        "print('Loaded batch of camera poses. Shape:', cam_pose_batch.shape)\n",
        "cam_k_batch = torch.load(os.path.join(local_files,'example_cam_k_batch.pt')).cuda()\n",
        "print('Loaded batch of camera intrinsics. Shape:', cam_k_batch.shape)\n",
        "depth_batch = torch.load(os.path.join(local_files,'example_depth_batch.pt')).cuda()\n",
        "print('Loaded batch of depth images. Shape:', depth_batch.shape)\n",
        "semseg_batch = torch.load(os.path.join(local_files,'example_semseg_batch.pt')).cuda()\n",
        "print('Loaded batch of semantic segmentation masks. Shape:', semseg_batch.shape)\n",
        "\n",
        "ray_origs, ray_dirs, _, _ = sample_rays(cam_pose_batch, cam_k_batch, depth=depth_batch, normalize=False)\n",
        "print('Calculated ray origins. Shape:', ray_origs.shape)\n",
        "print('Calculated ray directions. Shape:', ray_dirs.shape)\n",
        "depth_reshape = depth_batch.squeeze(2).flatten(-2,-1)\n",
        "print('Reshaped depth accordingly. Shape:', depth_reshape.shape)\n",
        "# reshape semseg to match rays\n",
        "semseg_reshape = semseg_batch.squeeze(2).flatten(-2,-1)\n",
        "# convert class labels to eps-soft log probs\n",
        "semseg_soft = torch.log(soften_semseg(semseg_reshape))\n",
        "# mask background values with nan\n",
        "semseg_soft[semseg_reshape == -1] = torch.full((semseg_soft.shape[-1],), fill_value=float('nan'), device=semseg_soft.device)\n",
        "print('Converted semantic segmentation to eps-soft log probs. Shape:', semseg_soft.shape)"
      ]
    },
    {
      "cell_type": "code",
      "execution_count": 7,
      "id": "23954e5b",
      "metadata": {
        "colab": {
          "base_uri": "https://localhost:8080/"
        },
        "id": "23954e5b",
        "outputId": "ca716e3a-1fca-4343-9e5b-edd8763fff17"
      },
      "outputs": [
        {
          "output_type": "stream",
          "name": "stdout",
          "text": [
            "Warning: min_range should be 2D, but is not. Adding dummy batch dimension.\n",
            "Warning: max_range should be 2D, but is not. Adding dummy batch dimension.\n",
            "Computed output counter map. Shape: torch.Size([1, 2, 140, 112, 100]) \n",
            "\n",
            "Warning: min_range should be 2D, but is not. Adding dummy batch dimension.\n",
            "Warning: max_range should be 2D, but is not. Adding dummy batch dimension.\n",
            "Warning: semantic segmentation along rays detected, but no semantic map given! Applying counting model without Bayes filter.\n",
            "Computed output counter map. Shape: torch.Size([1, 2, 140, 112, 100]) \n",
            "\n",
            "Warning: min_range should be 2D, but is not. Adding dummy batch dimension.\n",
            "Warning: max_range should be 2D, but is not. Adding dummy batch dimension.\n",
            "Warning: semantic voxel grid detected, but no semantic segmentation provided for rays! Applying counting model without Bayes filter.\n",
            "Computed output counter map. Shape: torch.Size([1, 2, 140, 112, 100]) \n",
            "\n",
            "Warning: min_range should be 2D, but is not. Adding dummy batch dimension.\n",
            "Warning: max_range should be 2D, but is not. Adding dummy batch dimension.\n",
            "Computed output semantic map. Shape: torch.Size([1, 39, 140, 112, 100])\n",
            "Computed output counter map. Shape: torch.Size([1, 2, 140, 112, 100]) \n",
            "\n"
          ]
        }
      ],
      "source": [
        "# no semantic annotation for rays, no semantic maps\n",
        "counter_map_out_A = apply_counting_model(counter_map_in, ray_origs, ray_dirs,\n",
        "                                                         depth_reshape, range_min, range_max,\n",
        "                                                         grid_semantic=None,\n",
        "                                                         ray_semseg=None, n_steps=4096, verbose=True)\n",
        "print('Computed output counter map. Shape:', counter_map_out_A.shape, '\\n')\n",
        "# semantic annotation for rays, but no semantic maps\n",
        "counter_map_out_B = apply_counting_model(counter_map_in, ray_origs, ray_dirs,\n",
        "                                                         depth_reshape, range_min, range_max,\n",
        "                                                         grid_semantic=None,\n",
        "                                                         ray_semseg=semseg_soft, n_steps=4096, verbose=True)\n",
        "print('Computed output counter map. Shape:', counter_map_out_B.shape, '\\n')\n",
        "# no semantic annotation for rays, but semantic maps\n",
        "counter_map_out_C = apply_counting_model(counter_map_in, ray_origs, ray_dirs,\n",
        "                                                         depth_reshape, range_min, range_max,\n",
        "                                                         grid_semantic=semantic_map_in,\n",
        "                                                         ray_semseg=None, n_steps=4096, verbose=True)\n",
        "print('Computed output counter map. Shape:', counter_map_out_C.shape, '\\n')\n",
        "# semantic annotation for rays and semantic maps\n",
        "counter_map_out_D, semantic_map_out_D = apply_counting_model(counter_map_in, ray_origs, ray_dirs,\n",
        "                                                         depth_reshape, range_min, range_max,\n",
        "                                                         grid_semantic=semantic_map_in,\n",
        "                                                         ray_semseg=semseg_soft, n_steps=4096, verbose=True)\n",
        "print('Computed output semantic map. Shape:', semantic_map_out_D.shape)\n",
        "print('Computed output counter map. Shape:', counter_map_out_D.shape, '\\n')"
      ]
    },
    {
      "cell_type": "code",
      "source": [
        "from torch_fusion.util import CMAP_39, visualize_voxel_grid\n",
        "from IPython.display import HTML\n",
        "from base64 import b64encode\n",
        "\n",
        "# visualize the results\n",
        "# cmap needs to be num_classes x 3 tensor\n",
        "cmap = CMAP_39.to(device)\n",
        "vis_dict = visualize_voxel_grid(counter_map_out_D, grid_semantic=semantic_map_out_D, color_map=cmap)\n",
        "fps = 10\n",
        "# create clip\n",
        "clip_reflect_z = ImageSequenceClip(list(vis_dict['reflectance']['z_axis']), fps=fps)\n",
        "# write to tempfile and display with HTML to embed animation in notebook\n",
        "temp_video_file = \"/content/__temp__.mp4\"\n",
        "clip_reflect_z.write_videofile(temp_video_file, codec='libx264')\n",
        "\n",
        "with open(temp_video_file, \"rb\") as video_file:\n",
        "    video_data = b64encode(video_file.read()).decode()\n",
        "\n",
        "HTML(f\"\"\"\n",
        "<video width=\"360\" controls autoplay loop>\n",
        "    <source src=\"data:video/mp4;base64,{video_data}\" type=\"video/mp4\">\n",
        "</video>\n",
        "\"\"\")"
      ],
      "metadata": {
        "id": "CbgMkKt4xt2m",
        "outputId": "d4adc3fc-1e46-44d6-ef9f-7af9205be335",
        "colab": {
          "base_uri": "https://localhost:8080/",
          "height": 401
        }
      },
      "id": "CbgMkKt4xt2m",
      "execution_count": 8,
      "outputs": [
        {
          "output_type": "stream",
          "name": "stdout",
          "text": [
            "Moviepy - Building video /content/__temp__.mp4.\n",
            "Moviepy - Writing video /content/__temp__.mp4\n",
            "\n"
          ]
        },
        {
          "output_type": "stream",
          "name": "stderr",
          "text": [
            "                                                              "
          ]
        },
        {
          "output_type": "stream",
          "name": "stdout",
          "text": [
            "Moviepy - Done !\n",
            "Moviepy - video ready /content/__temp__.mp4\n"
          ]
        },
        {
          "output_type": "stream",
          "name": "stderr",
          "text": [
            "\r"
          ]
        },
        {
          "output_type": "execute_result",
          "data": {
            "text/plain": [
              "<IPython.core.display.HTML object>"
            ],
            "text/html": [
              "\n",
              "<video width=\"360\" controls autoplay loop>\n",
              "    <source src=\"data:video/mp4;base64,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\" type=\"video/mp4\">\n",
              "</video>\n"
            ]
          },
          "metadata": {},
          "execution_count": 8
        }
      ]
    },
    {
      "cell_type": "code",
      "execution_count": 9,
      "id": "3b7ea0bb",
      "metadata": {
        "colab": {
          "base_uri": "https://localhost:8080/"
        },
        "id": "3b7ea0bb",
        "outputId": "fdbe8037-ab09-4333-e675-02eb65901b19"
      },
      "outputs": [
        {
          "output_type": "stream",
          "name": "stdout",
          "text": [
            "Bayesian fusion took 0.08801543360999858 seconds per call using 6758400 rays.\n",
            "This corresponds to about 76.8 million ray casts per second.\n"
          ]
        }
      ],
      "source": [
        "n_trials = 10\n",
        "n_calls = 10\n",
        "timed_func = timeit.Timer(lambda: apply_counting_model(counter_map_in, ray_origs, ray_dirs, depth_reshape, range_min,\n",
        "                                                       range_max, grid_semantic=semantic_map_in, ray_semseg=semseg_soft,\n",
        "                                                       n_steps=4096, verbose=False, assert_inputs=False))\n",
        "exec_times = timed_func.repeat(repeat=n_trials, number=n_calls)\n",
        "num_rays = ray_dirs.shape[0]*ray_dirs.shape[1]*ray_dirs.shape[2]\n",
        "print(f\"Bayesian fusion took {np.mean(exec_times)/n_calls} seconds per call using {num_rays} rays.\")\n",
        "print(f\"This corresponds to about {np.round((num_rays/(np.mean(exec_times)/n_calls))/1000000,1)} million ray casts per second.\")"
      ]
    },
    {
      "cell_type": "markdown",
      "id": "d254bf92",
      "metadata": {
        "id": "d254bf92"
      },
      "source": [
        "#### Variation - only count hits\n",
        "\n",
        "Just provide the same input but leave out the channel for misses in the counter maps."
      ]
    },
    {
      "cell_type": "code",
      "execution_count": 10,
      "id": "64332bed",
      "metadata": {
        "id": "64332bed"
      },
      "outputs": [],
      "source": [
        "# define batch size and number of classes for this example\n",
        "B, C = 1, 39\n",
        "# define resolution of the map\n",
        "H, W, D = 140, 112, 100\n",
        "# initialize empty counter map - the one channel is for the hits counter\n",
        "counter_map_in = torch.zeros([B, 1, H, W, D]).to(device) # <--- !!! ONLY DIFFERENCE COMPARED TO ABOVE !!!"
      ]
    },
    {
      "cell_type": "code",
      "execution_count": 11,
      "id": "83456ada",
      "metadata": {
        "colab": {
          "base_uri": "https://localhost:8080/"
        },
        "id": "83456ada",
        "outputId": "a547e59d-6ebe-4779-e2ca-000b0ecd6fef"
      },
      "outputs": [
        {
          "output_type": "stream",
          "name": "stdout",
          "text": [
            "Warning: min_range should be 2D, but is not. Adding dummy batch dimension.\n",
            "Warning: max_range should be 2D, but is not. Adding dummy batch dimension.\n",
            "Computed output occupancy map. Shape: torch.Size([1, 1, 140, 112, 100]) \n",
            "\n",
            "Warning: min_range should be 2D, but is not. Adding dummy batch dimension.\n",
            "Warning: max_range should be 2D, but is not. Adding dummy batch dimension.\n",
            "Warning: semantic segmentation along rays detected, but no semantic map given! Incrementing hit counter for foreground pixels without Bayes filter.\n",
            "Computed output occupancy map. Shape: torch.Size([1, 1, 140, 112, 100]) \n",
            "\n",
            "Warning: min_range should be 2D, but is not. Adding dummy batch dimension.\n",
            "Warning: max_range should be 2D, but is not. Adding dummy batch dimension.\n",
            "Warning: semantic voxel grid detected, but no semantic segmentation provided for rays! Counting hits without Bayes filter.\n",
            "Computed output occupancy map. Shape: torch.Size([1, 1, 140, 112, 100]) \n",
            "\n",
            "Warning: min_range should be 2D, but is not. Adding dummy batch dimension.\n",
            "Warning: max_range should be 2D, but is not. Adding dummy batch dimension.\n",
            "Computed output semantic map. Shape: torch.Size([1, 39, 140, 112, 100])\n",
            "Computed output occupancy map. Shape: torch.Size([1, 1, 140, 112, 100]) \n",
            "\n"
          ]
        }
      ],
      "source": [
        "# no semantic annotation for rays, no semantic maps\n",
        "occ_map_out_A = apply_counting_model(counter_map_in, ray_origs, ray_dirs,\n",
        "                                                         depth_reshape, range_min, range_max,\n",
        "                                                         grid_semantic=None,\n",
        "                                                         ray_semseg=None, n_steps=4096, verbose=True)\n",
        "print('Computed output occupancy map. Shape:', occ_map_out_A.shape, '\\n')\n",
        "# semantic annotation for rays, but no semantic maps\n",
        "occ_map_out_B = apply_counting_model(counter_map_in, ray_origs, ray_dirs,\n",
        "                                                         depth_reshape, range_min, range_max,\n",
        "                                                         grid_semantic=None,\n",
        "                                                         ray_semseg=semseg_soft, n_steps=4096, verbose=True)\n",
        "print('Computed output occupancy map. Shape:',occ_map_out_B.shape, '\\n')\n",
        "# no semantic annotation for rays, but semantic maps\n",
        "occ_map_out_C = apply_counting_model(counter_map_in, ray_origs, ray_dirs,\n",
        "                                                         depth_reshape, range_min, range_max,\n",
        "                                                         grid_semantic=semantic_map_in,\n",
        "                                                         ray_semseg=None, n_steps=4096, verbose=True)\n",
        "print('Computed output occupancy map. Shape:',occ_map_out_C.shape, '\\n')\n",
        "# semantic annotation for rays and semantic maps\n",
        "occ_map_out_D, semantic_map_out_D = apply_counting_model(counter_map_in, ray_origs, ray_dirs,\n",
        "                                                         depth_reshape, range_min, range_max,\n",
        "                                                         grid_semantic=semantic_map_in,\n",
        "                                                         ray_semseg=semseg_soft, n_steps=4096, verbose=True)\n",
        "print('Computed output semantic map. Shape:',semantic_map_out_D.shape)\n",
        "print('Computed output occupancy map. Shape:',occ_map_out_D.shape, '\\n')"
      ]
    },
    {
      "cell_type": "code",
      "execution_count": 12,
      "id": "8cc2e003",
      "metadata": {
        "colab": {
          "base_uri": "https://localhost:8080/"
        },
        "id": "8cc2e003",
        "outputId": "2ae771be-f7e0-456d-c053-c08648be558b"
      },
      "outputs": [
        {
          "output_type": "stream",
          "name": "stdout",
          "text": [
            "Bayesian fusion took 0.009798941869996724 seconds per call using 6758400 rays.\n",
            "This corresponds to about 0.7 billion ray endpoints per second.\n"
          ]
        }
      ],
      "source": [
        "n_trials = 10\n",
        "n_calls = 10\n",
        "timed_func = timeit.Timer(lambda: apply_counting_model(counter_map_in, ray_origs, ray_dirs, depth_reshape, range_min,\n",
        "                                                       range_max, grid_semantic=semantic_map_in, ray_semseg=semseg_soft,\n",
        "                                                       n_steps=4096, verbose=False, assert_inputs=False))\n",
        "exec_times = timed_func.repeat(repeat=n_trials, number=n_calls)\n",
        "num_rays = ray_dirs.shape[0]*ray_dirs.shape[1]*ray_dirs.shape[2]\n",
        "print(f\"Bayesian fusion took {np.mean(exec_times)/n_calls} seconds per call using {num_rays} rays.\")\n",
        "print(f\"This corresponds to about {np.round((num_rays/(np.mean(exec_times)/n_calls))/1000000000,1)} billion ray endpoints per second.\")"
      ]
    },
    {
      "cell_type": "markdown",
      "id": "331a1f90",
      "metadata": {
        "id": "331a1f90"
      },
      "source": [
        "### Directly fuse points clouds\n",
        "\n",
        "Fusing point clouds with or without semantic annotation is possible too. Misses aren't counted in this setup."
      ]
    },
    {
      "cell_type": "code",
      "execution_count": 13,
      "id": "db021823",
      "metadata": {
        "colab": {
          "base_uri": "https://localhost:8080/"
        },
        "id": "db021823",
        "outputId": "606684e1-770d-4088-fd00-d0f8ca0cfeb9"
      },
      "outputs": [
        {
          "output_type": "stream",
          "name": "stdout",
          "text": [
            "Loaded world dimensions lower limits. Shape: torch.Size([3])\n",
            "Loaded world dimensions upper limits. Shape: torch.Size([3])\n"
          ]
        }
      ],
      "source": [
        "# define batch size and number of classes for this example\n",
        "B, C = 1, 39\n",
        "# define resolution of the map\n",
        "H, W, D = 140, 112, 100\n",
        "# initialize empty occupancy map\n",
        "occ_map_in = torch.zeros([B, 1, H, W, D]).to(device)\n",
        "# intialize semantic map with uniform distribution\n",
        "semantic_map_in = torch.ones([B, C, H, W, D]).to(device)\n",
        "semantic_map_in *= 1 / (semantic_map_in.shape[1])\n",
        "# convert probabilities to log probs\n",
        "semantic_map_in = torch.log(semantic_map_in)\n",
        "\n",
        "# furthermore we need to specify the dimensions of this map in the real world\n",
        "range_min = torch.load(os.path.join(local_files,'example_world_limits_lower.pt')).cuda()\n",
        "print('Loaded world dimensions lower limits. Shape:', range_min.shape)\n",
        "range_max = torch.load(os.path.join(local_files,'example_world_limits_upper.pt')).cuda()\n",
        "print('Loaded world dimensions upper limits. Shape:', range_max.shape)\n",
        "# this can be specified per batch element, else assume each map in the batch is equally large"
      ]
    },
    {
      "cell_type": "code",
      "execution_count": 14,
      "id": "c863ae3d",
      "metadata": {
        "colab": {
          "base_uri": "https://localhost:8080/"
        },
        "id": "c863ae3d",
        "outputId": "a317823c-e12e-4cff-f764-51f5c338dd8a"
      },
      "outputs": [
        {
          "output_type": "stream",
          "name": "stdout",
          "text": [
            "Loaded point cloud locations. Shape: torch.Size([1, 669621, 3])\n",
            "Loaded point cloud class probabilities. Shape: torch.Size([1, 669621, 39])\n"
          ]
        }
      ],
      "source": [
        "# load an example point cloud\n",
        "# load the 3D locations\n",
        "pc_locs = torch.load(os.path.join(local_files,'example_pointcloud_locations.pt')).cuda()\n",
        "print('Loaded point cloud locations. Shape:', pc_locs.shape)\n",
        "# next load the class probabilites per location\n",
        "pc_probs = torch.load(os.path.join(local_files,'example_pointcloud_semantics.pt')).cuda()\n",
        "print('Loaded point cloud class probabilities. Shape:', pc_probs.shape)\n",
        "# convert these to log probs\n",
        "pc_probs = torch.log(pc_probs)\n",
        "\n",
        "# to mask points so they are not fused, set their locations to nan\n",
        "test_masking = False\n",
        "if test_masking:\n",
        "    # arbitrarily decide which points to mask\n",
        "    invalid_mask = torch.rand_like(pc_locs[:,:,0]) > 0.5\n",
        "    print('Masking',invalid_mask.sum(),'locations!')\n",
        "    invalid_mask = invalid_mask.unsqueeze(-1).expand(-1,-1,pc_locs.shape[-1])\n",
        "    pc_locs[invalid_mask] = float('nan')"
      ]
    },
    {
      "cell_type": "code",
      "execution_count": 15,
      "id": "4f192890",
      "metadata": {
        "colab": {
          "base_uri": "https://localhost:8080/"
        },
        "id": "4f192890",
        "outputId": "8fcee57c-58c3-4e77-f028-956049c84c1a"
      },
      "outputs": [
        {
          "output_type": "stream",
          "name": "stdout",
          "text": [
            "Warning: min_range should be 2D, but is not. Adding dummy batch dimension.\n",
            "Warning: max_range should be 2D, but is not. Adding dummy batch dimension.\n",
            "Computed output occupancy map. Shape: torch.Size([1, 1, 140, 112, 100]) \n",
            "\n",
            "Warning: min_range should be 2D, but is not. Adding dummy batch dimension.\n",
            "Warning: max_range should be 2D, but is not. Adding dummy batch dimension.\n",
            "Warning: semantic segmentation for point cloud detected, but no semantic map given! Incrementing hit counter without Bayes filter.\n",
            "Computed output occupancy map. Shape: torch.Size([1, 1, 140, 112, 100]) \n",
            "\n",
            "Warning: min_range should be 2D, but is not. Adding dummy batch dimension.\n",
            "Warning: max_range should be 2D, but is not. Adding dummy batch dimension.\n",
            "Warning: semantic voxel grid detected, but no semantic segmentation provided for point_clouds! Counting hits without Bayes filter.\n",
            "Computed output occupancy map. Shape: torch.Size([1, 1, 140, 112, 100]) \n",
            "\n",
            "Warning: min_range should be 2D, but is not. Adding dummy batch dimension.\n",
            "Warning: max_range should be 2D, but is not. Adding dummy batch dimension.\n",
            "Computed output semantic map. Shape: torch.Size([1, 39, 140, 112, 100])\n",
            "Computed output occupancy map. Shape: torch.Size([1, 1, 140, 112, 100]) \n",
            "\n"
          ]
        }
      ],
      "source": [
        "# no point cloud semantics, no semantic maps\n",
        "occ_map_out_A  = apply_point_cloud_fusion(occ_map_in, pc_locs, range_min, range_max,\n",
        "                                                      grid_semantic=None,\n",
        "                                                      point_cloud_logprobs=None, verbose=True)\n",
        "print('Computed output occupancy map. Shape:', occ_map_out_A.shape, '\\n')\n",
        "# point cloud semantics, but no semantic map\n",
        "occ_map_out_B  = apply_point_cloud_fusion(occ_map_in, pc_locs, range_min, range_max,\n",
        "                                                      grid_semantic=None,\n",
        "                                                      point_cloud_logprobs=pc_probs, verbose=True)\n",
        "print('Computed output occupancy map. Shape:', occ_map_out_B.shape, '\\n')\n",
        "# semantic map, but no point cloud semantics\n",
        "occ_map_out_C = apply_point_cloud_fusion(occ_map_in, pc_locs, range_min, range_max,\n",
        "                                                      grid_semantic=semantic_map_in,\n",
        "                                                      point_cloud_logprobs=None, verbose=True)\n",
        "print('Computed output occupancy map. Shape:', occ_map_out_C.shape, '\\n')\n",
        "# point cloud semantics and semantic map\n",
        "occ_map_out_D, semantic_map_out_D = apply_point_cloud_fusion(occ_map_in, pc_locs, range_min, range_max,\n",
        "                                                      grid_semantic=semantic_map_in,\n",
        "                                                      point_cloud_logprobs=pc_probs, verbose=True)\n",
        "print('Computed output semantic map. Shape:', semantic_map_out_D.shape)\n",
        "print('Computed output occupancy map. Shape:', occ_map_out_D.shape, '\\n')"
      ]
    },
    {
      "cell_type": "code",
      "source": [
        "vis_dict = visualize_voxel_grid(occ_map_out_D, grid_semantic=semantic_map_out_D, color_map=cmap)\n",
        "\n",
        "clip_reflect_z = ImageSequenceClip(list(vis_dict['hits']['z_axis']), fps=fps)\n",
        "clip_reflect_z.write_videofile(temp_video_file, codec='libx264')\n",
        "\n",
        "with open(temp_video_file, \"rb\") as video_file:\n",
        "    video_data = b64encode(video_file.read()).decode()\n",
        "\n",
        "HTML(f\"\"\"\n",
        "<video width=\"360\" controls autoplay loop>\n",
        "    <source src=\"data:video/mp4;base64,{video_data}\" type=\"video/mp4\">\n",
        "</video>\n",
        "\"\"\")"
      ],
      "metadata": {
        "id": "S5WzTWfTx7lD",
        "outputId": "3ecaf3c4-2940-45ac-a68c-ef1e8865c3ef",
        "colab": {
          "base_uri": "https://localhost:8080/",
          "height": 401
        }
      },
      "id": "S5WzTWfTx7lD",
      "execution_count": 16,
      "outputs": [
        {
          "output_type": "stream",
          "name": "stdout",
          "text": [
            "Moviepy - Building video /content/__temp__.mp4.\n",
            "Moviepy - Writing video /content/__temp__.mp4\n",
            "\n"
          ]
        },
        {
          "output_type": "stream",
          "name": "stderr",
          "text": [
            "                                                              "
          ]
        },
        {
          "output_type": "stream",
          "name": "stdout",
          "text": [
            "Moviepy - Done !\n",
            "Moviepy - video ready /content/__temp__.mp4\n"
          ]
        },
        {
          "output_type": "stream",
          "name": "stderr",
          "text": [
            "\r"
          ]
        },
        {
          "output_type": "execute_result",
          "data": {
            "text/plain": [
              "<IPython.core.display.HTML object>"
            ],
            "text/html": [
              "\n",
              "<video width=\"360\" controls autoplay loop>\n",
              "    <source src=\"data:video/mp4;base64,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\" type=\"video/mp4\">\n",
              "</video>\n"
            ]
          },
          "metadata": {},
          "execution_count": 16
        }
      ]
    },
    {
      "cell_type": "code",
      "execution_count": 17,
      "id": "2ca87f50",
      "metadata": {
        "colab": {
          "base_uri": "https://localhost:8080/"
        },
        "id": "2ca87f50",
        "outputId": "58e1581e-9ded-4cea-dda1-852159f69358"
      },
      "outputs": [
        {
          "output_type": "stream",
          "name": "stdout",
          "text": [
            "Bayesian fusion took 0.002389587819998269 seconds per call using 669621 points.\n",
            "This corresponds to about 280.2 million fused points per second.\n"
          ]
        }
      ],
      "source": [
        "n_trials = 10\n",
        "n_calls = 10\n",
        "timed_func = timeit.Timer(lambda: apply_point_cloud_fusion(occ_map_in, pc_locs, range_min, range_max,\n",
        "                                                           grid_semantic=semantic_map_in, point_cloud_logprobs=pc_probs,\n",
        "                                                           verbose=False, assert_inputs=False))\n",
        "exec_times = timed_func.repeat(repeat=n_trials, number=n_calls)\n",
        "num_points = pc_locs.shape[0] * pc_locs.shape[1]\n",
        "print(f\"Bayesian fusion took {np.mean(exec_times)/n_calls} seconds per call using {num_points} points.\")\n",
        "print(f\"This corresponds to about {np.round((num_points/(np.mean(exec_times)/n_calls))/1000000,1)} million fused points per second.\")"
      ]
    }
  ],
  "metadata": {
    "kernelspec": {
      "display_name": "Python 3",
      "name": "python3"
    },
    "language_info": {
      "codemirror_mode": {
        "name": "ipython",
        "version": 3
      },
      "file_extension": ".py",
      "mimetype": "text/x-python",
      "name": "python",
      "nbconvert_exporter": "python",
      "pygments_lexer": "ipython3",
      "version": "3.8.10"
    },
    "colab": {
      "provenance": [],
      "gpuType": "V100",
      "include_colab_link": true
    },
    "accelerator": "GPU"
  },
  "nbformat": 4,
  "nbformat_minor": 5
}